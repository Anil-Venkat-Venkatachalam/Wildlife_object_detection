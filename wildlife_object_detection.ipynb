{
  "metadata": {
    "kernelspec": {
      "language": "python",
      "display_name": "Python 3",
      "name": "python3"
    },
    "language_info": {
      "name": "python",
      "version": "3.11.13",
      "mimetype": "text/x-python",
      "codemirror_mode": {
        "name": "ipython",
        "version": 3
      },
      "pygments_lexer": "ipython3",
      "nbconvert_exporter": "python",
      "file_extension": ".py"
    },
    "kaggle": {
      "accelerator": "none",
      "dataSources": [
        {
          "sourceId": 7630346,
          "sourceType": "datasetVersion",
          "datasetId": 4445814
        }
      ],
      "dockerImageVersionId": 31090,
      "isInternetEnabled": true,
      "language": "python",
      "sourceType": "notebook",
      "isGpuEnabled": false
    },
    "colab": {
      "provenance": []
    }
  },
  "nbformat_minor": 0,
  "nbformat": 4,
  "cells": [
    {
      "cell_type": "markdown",
      "source": [
        "# Working on a Object detection Kaggle Dataset (already YOLO formated)"
      ],
      "metadata": {
        "id": "TtQB7KR4PB4o"
      }
    },
    {
      "cell_type": "code",
      "source": [
        "!pip install ultralytics --upgrade"
      ],
      "metadata": {
        "trusted": true,
        "execution": {
          "iopub.status.busy": "2025-08-13T12:52:40.423875Z",
          "iopub.execute_input": "2025-08-13T12:52:40.424095Z",
          "iopub.status.idle": "2025-08-13T12:53:57.502985Z",
          "shell.execute_reply.started": "2025-08-13T12:52:40.424070Z",
          "shell.execute_reply": "2025-08-13T12:53:57.502313Z"
        },
        "id": "MW9EDkpqxLJr"
      },
      "outputs": [],
      "execution_count": null
    },
    {
      "cell_type": "code",
      "source": [
        "import yaml\n",
        "import torch\n",
        "from ultralytics import YOLO\n",
        "import matplotlib.pyplot as plt\n",
        "import cv2 as cv"
      ],
      "metadata": {
        "id": "1w0O9giwPXY7"
      },
      "execution_count": null,
      "outputs": []
    },
    {
      "cell_type": "markdown",
      "source": [
        "## Fixing the YAML dataset paths to Kaggle input directory"
      ],
      "metadata": {
        "id": "lSB3QazvPY34"
      }
    },
    {
      "cell_type": "code",
      "source": [
        "original_yaml_path = '/kaggle/input/object-detection-wildlife-dataset-yolo-format/final_data/data_wl.yaml'\n",
        "\n",
        "with open(original_yaml_path, 'r') as f:\n",
        "    data_dict = yaml.safe_load(f)\n",
        "\n",
        "base_path = '/kaggle/input/object-detection-wildlife-dataset-yolo-format/final_data'\n",
        "data_dict['train'] = f'{base_path}/train/images'\n",
        "data_dict['val'] = f'{base_path}/valid/images'\n",
        "data_dict['test'] = f'{base_path}/test/images'\n",
        "\n",
        "fixed_yaml_path = '/kaggle/working/fixed_data.yaml'\n",
        "with open(fixed_yaml_path, 'w') as f:\n",
        "    yaml.dump(data_dict, f)\n",
        "\n",
        "print(\"Fixed YAML dataset paths saved to:\", fixed_yaml_path)"
      ],
      "metadata": {
        "id": "SV5IFQjgPdHv"
      },
      "execution_count": null,
      "outputs": []
    },
    {
      "cell_type": "markdown",
      "source": [
        "## Setup device"
      ],
      "metadata": {
        "id": "ta26biTLPgYE"
      }
    },
    {
      "cell_type": "code",
      "source": [
        "device = 'cuda' if torch.cuda.is_available() else 'cpu'\n",
        "device_num = 0 if device == 'cuda' else 'cpu'\n",
        "print(f'Running on device: {device_num}')"
      ],
      "metadata": {
        "id": "bcjQqkDzPh7H"
      },
      "execution_count": null,
      "outputs": []
    },
    {
      "cell_type": "markdown",
      "source": [
        "## Load & Train model"
      ],
      "metadata": {
        "id": "2WSiDJR4Pi97"
      }
    },
    {
      "cell_type": "code",
      "source": [
        "model = YOLO('yolov8s.pt')\n",
        "\n",
        "## Train model\n",
        "model.train(\n",
        "    data=fixed_yaml_path,\n",
        "    epochs=5,\n",
        "    imgsz=640,\n",
        "    batch=16,\n",
        "    device=device_num\n",
        ")"
      ],
      "metadata": {
        "id": "t2BPpiwSPqv0"
      },
      "execution_count": null,
      "outputs": []
    },
    {
      "cell_type": "markdown",
      "source": [
        "## Predict on test images"
      ],
      "metadata": {
        "id": "80rHMNXlPss3"
      }
    },
    {
      "cell_type": "code",
      "source": [
        "results = model.predict(\n",
        "    source=f'{base_path}/test/images',\n",
        "    conf=0.25,\n",
        "    save=True\n",
        ")"
      ],
      "metadata": {
        "id": "iVsna0fnPur-"
      },
      "execution_count": null,
      "outputs": []
    },
    {
      "cell_type": "markdown",
      "source": [
        "## Draw bounding boxes on prediction result"
      ],
      "metadata": {
        "id": "Yh3VtC1YP1FB"
      }
    },
    {
      "cell_type": "code",
      "source": [
        "ind_num = 23\n",
        "first_result = results[ind_num]\n",
        "img = cv.imread(first_result.path)\n",
        "for box in first_result.boxes:\n",
        "    x1, y1, x2, y2 = map(int, box.xyxy[0])\n",
        "    cls_id = int(box.cls[0])\n",
        "    conf = box.conf[0]\n",
        "    label = f\"{first_result.names[cls_id]} {conf:.2f}\"\n",
        "    cv.rectangle(img, (x1, y1), (x2, y2), (0, 255, 0), 2)\n",
        "    cv.putText(img, label, (x1, y1 - 10), cv.FONT_HERSHEY_SIMPLEX,\n",
        "               0.6, (255, 255, 255), 2)"
      ],
      "metadata": {
        "id": "HO0CG3U3PyTH"
      },
      "execution_count": null,
      "outputs": []
    },
    {
      "cell_type": "markdown",
      "source": [
        "## Convert BGR to RGB for displaying in matplotlib"
      ],
      "metadata": {
        "id": "2Pz1B7T6P4Op"
      }
    },
    {
      "cell_type": "code",
      "source": [
        "img_rgb = cv.cvtColor(img, cv.COLOR_BGR2RGB)\n",
        "plt.imshow(img_rgb)\n",
        "plt.axis('off')\n",
        "plt.show()"
      ],
      "metadata": {
        "id": "Czb2-tS3P5uU"
      },
      "execution_count": null,
      "outputs": []
    },
    {
      "cell_type": "markdown",
      "source": [
        "## Save model weights"
      ],
      "metadata": {
        "id": "0qldO1qyP7N8"
      }
    },
    {
      "cell_type": "code",
      "source": [
        "model.save('animal_detector.pt')\n",
        "print('Model saved as animal_detector.pt')"
      ],
      "metadata": {
        "trusted": true,
        "execution": {
          "iopub.status.busy": "2025-08-13T12:59:06.777505Z",
          "iopub.execute_input": "2025-08-13T12:59:06.778205Z",
          "iopub.status.idle": "2025-08-13T13:01:30.189646Z",
          "shell.execute_reply.started": "2025-08-13T12:59:06.778170Z",
          "shell.execute_reply": "2025-08-13T13:01:30.188396Z"
        },
        "id": "o18TOE9nxLJr"
      },
      "outputs": [],
      "execution_count": null
    }
  ]
}